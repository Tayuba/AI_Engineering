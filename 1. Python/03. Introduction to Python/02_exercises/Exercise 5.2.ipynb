{
 "cells": [
  {
   "cell_type": "code",
   "execution_count": 2,
   "id": "70bedee4",
   "metadata": {},
   "outputs": [
    {
     "name": "stdout",
     "output_type": "stream",
     "text": [
      "160 \n",
      "2\n",
      "3\n",
      "100 \n",
      "2\n",
      "4\n"
     ]
    }
   ],
   "source": [
    "# # Your functions\n",
    "def main(number):\n",
    "    \"\"\"\n",
    "    a = [2, 4, 6, 12, 15, 99, 100]\n",
    "    100\n",
    "    2\n",
    "    4\n",
    "    \"\"\"\n",
    "    def largest():\n",
    "        larger = max(number)\n",
    "        return larger\n",
    "    \n",
    "    def smallest():\n",
    "        smaller = min(number)\n",
    "        return smaller\n",
    "    \n",
    "    def divid():\n",
    "        count = 0\n",
    "        for num in number:\n",
    "            if num % 3 == 0:\n",
    "                count += 1\n",
    "        return count\n",
    "   \n",
    "    print(str(largest()) + \" \\n\" + str(smallest()) + \"\\n\" + str(divid()))\n",
    "    return\n",
    "\n",
    "\n",
    "    \n",
    "a = [2, 4, 6, 12, 15, 99, 100]\n",
    "b = [2, 4, 66, 12, 15, 160, 100]\n",
    "\n",
    "\n",
    "# main(b)\n",
    "main(a)"
   ]
  }
 ],
 "metadata": {
  "kernelspec": {
   "display_name": "Python 3",
   "language": "python",
   "name": "python3"
  },
  "language_info": {
   "codemirror_mode": {
    "name": "ipython",
    "version": 3
   },
   "file_extension": ".py",
   "mimetype": "text/x-python",
   "name": "python",
   "nbconvert_exporter": "python",
   "pygments_lexer": "ipython3",
   "version": "3.8.8"
  }
 },
 "nbformat": 4,
 "nbformat_minor": 5
}
