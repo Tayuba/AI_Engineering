{
 "cells": [
  {
   "cell_type": "code",
   "execution_count": null,
   "id": "4c431de3",
   "metadata": {},
   "outputs": [],
   "source": [
    "y = int(input())\n",
    "def is_prime(n):\n",
    "    i = 2\n",
    "    while i < n-1:\n",
    "        if round(n / i) == n / i:\n",
    "            prime = False\n",
    "            break\n",
    "        i +=1\n",
    "    else:\n",
    "        prime = True\n",
    "    if n == 1:\n",
    "        prime = False\n",
    "    print(prime)\n",
    "is_prime(y"
   ]
  }
 ],
 "metadata": {
  "kernelspec": {
   "display_name": "Python 3",
   "language": "python",
   "name": "python3"
  },
  "language_info": {
   "codemirror_mode": {
    "name": "ipython",
    "version": 3
   },
   "file_extension": ".py",
   "mimetype": "text/x-python",
   "name": "python",
   "nbconvert_exporter": "python",
   "pygments_lexer": "ipython3",
   "version": "3.8.8"
  }
 },
 "nbformat": 4,
 "nbformat_minor": 5
}
