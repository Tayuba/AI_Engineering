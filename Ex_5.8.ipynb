{
 "cells": [
  {
   "cell_type": "code",
   "execution_count": null,
   "id": "e237d683",
   "metadata": {},
   "outputs": [],
   "source": [
    "#Your Code Here\n",
    "# Solve 4*ABCD == DCBA\n",
    "digits = [0, 1, 2, 3, 4, 5, 6, 7, 8, 9]\n",
    "\n",
    "def nested_nest(digits):\n",
    "    \n",
    "    \"\"\"\n",
    "    A = 2\n",
    "    B = 1\n",
    "    C = 7\n",
    "    D = 8\n",
    "    \"\"\"\n",
    "    for a in digits[1:]:\n",
    "        for b in digits:\n",
    "            for c in digits:\n",
    "                for d in digits[1:]:\n",
    "                    if 4*(a*1000+b*100+c*10+d*1) == (d*1000+c*100+b*10+a*1):\n",
    "                        print('A =', a)\n",
    "                        print('B =', b)\n",
    "                        print('C =', c)\n",
    "                        print('D =', d)\n",
    "\n",
    "nested_nest(digits)"
   ]
  }
 ],
 "metadata": {
  "kernelspec": {
   "display_name": "Python 3",
   "language": "python",
   "name": "python3"
  },
  "language_info": {
   "codemirror_mode": {
    "name": "ipython",
    "version": 3
   },
   "file_extension": ".py",
   "mimetype": "text/x-python",
   "name": "python",
   "nbconvert_exporter": "python",
   "pygments_lexer": "ipython3",
   "version": "3.8.8"
  }
 },
 "nbformat": 4,
 "nbformat_minor": 5
}
